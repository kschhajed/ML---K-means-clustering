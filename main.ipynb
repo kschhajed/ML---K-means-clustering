{
  "nbformat": 4,
  "nbformat_minor": 0,
  "metadata": {
    "colab": {
      "name": "main.ipynb",
      "provenance": [],
      "collapsed_sections": []
    },
    "kernelspec": {
      "display_name": "Python 3",
      "name": "python3"
    },
    "language_info": {
      "name": "python"
    }
  },
  "cells": [
    {
      "cell_type": "markdown",
      "metadata": {
        "id": "Zq-kfFk3lPjQ"
      },
      "source": [
        "K-Means clustering\n",
        "\n",
        "Author - Kshitij Chhajed"
      ]
    },
    {
      "cell_type": "code",
      "metadata": {
        "id": "P9Q5qJffEdTq",
        "colab": {
          "base_uri": "https://localhost:8080/"
        },
        "outputId": "e63bb2c0-094a-455c-9e6c-f8d7c87e364c"
      },
      "source": [
        "# Imports\n",
        "!pip install validclust\n",
        "from tensorflow import keras\n",
        "from validclust import dunn\n",
        "from sklearn.metrics import pairwise_distances\n",
        "from sklearn.metrics import silhouette_score\n",
        "import numpy as np\n",
        "import cv2\n",
        "import copy"
      ],
      "execution_count": 1,
      "outputs": [
        {
          "output_type": "stream",
          "name": "stdout",
          "text": [
            "Collecting validclust\n",
            "  Downloading validclust-0.1.1-py2.py3-none-any.whl (8.1 kB)\n",
            "Requirement already satisfied: seaborn in /usr/local/lib/python3.7/dist-packages (from validclust) (0.11.2)\n",
            "Requirement already satisfied: scikit-learn in /usr/local/lib/python3.7/dist-packages (from validclust) (1.0.2)\n",
            "Requirement already satisfied: matplotlib in /usr/local/lib/python3.7/dist-packages (from validclust) (3.2.2)\n",
            "Requirement already satisfied: numpy>=1.16.5 in /usr/local/lib/python3.7/dist-packages (from validclust) (1.21.6)\n",
            "Requirement already satisfied: pandas in /usr/local/lib/python3.7/dist-packages (from validclust) (1.3.5)\n",
            "Requirement already satisfied: packaging in /usr/local/lib/python3.7/dist-packages (from validclust) (21.3)\n",
            "Requirement already satisfied: kiwisolver>=1.0.1 in /usr/local/lib/python3.7/dist-packages (from matplotlib->validclust) (1.4.2)\n",
            "Requirement already satisfied: pyparsing!=2.0.4,!=2.1.2,!=2.1.6,>=2.0.1 in /usr/local/lib/python3.7/dist-packages (from matplotlib->validclust) (3.0.8)\n",
            "Requirement already satisfied: cycler>=0.10 in /usr/local/lib/python3.7/dist-packages (from matplotlib->validclust) (0.11.0)\n",
            "Requirement already satisfied: python-dateutil>=2.1 in /usr/local/lib/python3.7/dist-packages (from matplotlib->validclust) (2.8.2)\n",
            "Requirement already satisfied: typing-extensions in /usr/local/lib/python3.7/dist-packages (from kiwisolver>=1.0.1->matplotlib->validclust) (4.1.1)\n",
            "Requirement already satisfied: six>=1.5 in /usr/local/lib/python3.7/dist-packages (from python-dateutil>=2.1->matplotlib->validclust) (1.15.0)\n",
            "Requirement already satisfied: pytz>=2017.3 in /usr/local/lib/python3.7/dist-packages (from pandas->validclust) (2022.1)\n",
            "Requirement already satisfied: scipy>=1.1.0 in /usr/local/lib/python3.7/dist-packages (from scikit-learn->validclust) (1.4.1)\n",
            "Requirement already satisfied: threadpoolctl>=2.0.0 in /usr/local/lib/python3.7/dist-packages (from scikit-learn->validclust) (3.1.0)\n",
            "Requirement already satisfied: joblib>=0.11 in /usr/local/lib/python3.7/dist-packages (from scikit-learn->validclust) (1.1.0)\n",
            "Installing collected packages: validclust\n",
            "Successfully installed validclust-0.1.1\n"
          ]
        }
      ]
    },
    {
      "cell_type": "code",
      "metadata": {
        "colab": {
          "base_uri": "https://localhost:8080/"
        },
        "id": "EyyiVSicEm95",
        "outputId": "ceacc43c-aeae-4453-c03f-35419b81d2b7"
      },
      "source": [
        "#Preprocessing of image: Loading data, converting to grayscale and reshaping\n",
        "(x_train, y_train), (x_test, y_test) = keras.datasets.cifar10.load_data()\n",
        "x_test = np.array([cv2.cvtColor(image, cv2.COLOR_BGR2GRAY) for image in x_test])\n",
        "x_test = x_test.reshape(x_test.shape[0],(x_test.shape[1]*x_test.shape[2]))\n",
        "\n",
        "#Centroid initialization using random functions\n",
        "np.random.seed(2)\n",
        "a=[]  \n",
        "idx = np.random.choice(len(x_test), 10, replace=False)\n",
        "a = [x_test[i] for i in idx] \n",
        "\n",
        "#Function to calculate cluster contents and predicted labels\n",
        "def init_clust(m):\n",
        "  cluster= [[] for i in range(10)]\n",
        "  y_pred = [ None for i in range(len(x_test))]\n",
        "  for i in range (len(x_test)):\n",
        "    dist=[]\n",
        "    for j in range (len(m)):\n",
        "      dist.append(np.linalg.norm(x_test[i,:] - m[j]))\n",
        "    idx = np.argmin(dist)\n",
        "    cluster[idx].append(x_test[i,:])\n",
        "    y_pred[i] = idx\n",
        "  return cluster, y_pred\n",
        "\n",
        "#Function to re-calculate centroid everytime after clustering\n",
        "def new_centroid(cluster):\n",
        "  for i in range (len(a)):\n",
        "    if(len(cluster[i])==0):\n",
        "      a[i] = x_test[np.random.choice(len(x_test), 1)]\n",
        "    else:\n",
        "      a[i] = np.average(cluster[i], axis=0)\n",
        "  return a\n",
        "\n",
        "#Converging clusters until iterations complete or difference between centroids diminish to small value    \n",
        "for i in range(60):\n",
        "  old_a = copy.deepcopy(a)\n",
        "  c, y_pred = init_clust(old_a)\n",
        "  a = new_centroid(c)\n",
        "  diff = np.linalg.norm(np.array(a) - np.array(old_a))\n",
        "  if (diff < 0.00001):\n",
        "    print(\"Iteration: \",i, \"- Diff:\", diff)\n",
        "    break\n",
        "\n",
        "score = silhouette_score(x_test, y_pred, metric='euclidean')\n",
        "print(\"Silhouette score:\", score)\n",
        "pair_dist = pairwise_distances(x_test)\n",
        "print (\"Dunn's index:\" ,dunn(pair_dist, y_pred))"
      ],
      "execution_count": 2,
      "outputs": [
        {
          "output_type": "stream",
          "name": "stdout",
          "text": [
            "Downloading data from https://www.cs.toronto.edu/~kriz/cifar-10-python.tar.gz\n",
            "170500096/170498071 [==============================] - 3s 0us/step\n",
            "170508288/170498071 [==============================] - 3s 0us/step\n",
            "Iteration:  55 - Diff: 0.0\n",
            "Silhouette score: 0.05585021207357926\n",
            "Dunn's index: 0.09108497591578157\n"
          ]
        }
      ]
    }
  ]
}